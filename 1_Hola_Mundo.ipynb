{
  "nbformat": 4,
  "nbformat_minor": 0,
  "metadata": {
    "colab": {
      "provenance": [],
      "include_colab_link": true
    },
    "kernelspec": {
      "name": "python3",
      "display_name": "Python 3"
    },
    "language_info": {
      "name": "python"
    }
  },
  "cells": [
    {
      "cell_type": "markdown",
      "metadata": {
        "id": "view-in-github",
        "colab_type": "text"
      },
      "source": [
        "<a href=\"https://colab.research.google.com/github/TheAtu/learning-python/blob/main/1_Hola_Mundo.ipynb\" target=\"_parent\"><img src=\"https://colab.research.google.com/assets/colab-badge.svg\" alt=\"Open In Colab\"/></a>"
      ]
    },
    {
      "cell_type": "markdown",
      "source": [
        "## Hola Mundo!\n",
        "\n",
        " The simplest directive in Python is the \"print\" directive - it simply prints out a line\n",
        "\n",
        " To print a string in Python, just write:\n",
        "\n",
        " (You can run the code block below by clicking on the play button)\n",
        "\n",
        " These tutorials are adapted from: https://www.learnpython.org/en/Welcome"
      ],
      "metadata": {
        "id": "OXmjOIxy7NPz"
      }
    },
    {
      "cell_type": "code",
      "execution_count": 4,
      "metadata": {
        "id": "aYrXgyd77Dxe",
        "colab": {
          "base_uri": "https://localhost:8080/"
        },
        "collapsed": true,
        "outputId": "37c9e327-9686-4a07-ad9b-f320ae964310"
      },
      "outputs": [
        {
          "output_type": "stream",
          "name": "stdout",
          "text": [
            "Run this block to print.\n"
          ]
        }
      ],
      "source": [
        "print(\"Run this block to print.\")"
      ]
    },
    {
      "cell_type": "markdown",
      "source": [
        "## Indentation\n",
        "Python uses indentation for blocks, instead of curly braces. Both tabs and spaces are supported. For example:"
      ],
      "metadata": {
        "id": "6Hi6VNV17rRd"
      }
    },
    {
      "cell_type": "code",
      "source": [
        "x = 1\n",
        "if x == 1:\n",
        "    # indented four spaces\n",
        "    print(\"x is 1.\")"
      ],
      "metadata": {
        "id": "MDS7RHQ072li",
        "colab": {
          "base_uri": "https://localhost:8080/"
        },
        "outputId": "0d2ea67e-b48d-4cfc-b196-05da019e186d"
      },
      "execution_count": 5,
      "outputs": [
        {
          "output_type": "stream",
          "name": "stdout",
          "text": [
            "x is 1.\n"
          ]
        }
      ]
    },
    {
      "cell_type": "markdown",
      "source": [
        "## Exercise\n",
        "Use the \"print\" function to print the line \"Hola, Mundo!\"."
      ],
      "metadata": {
        "id": "AB42psPb8ClT"
      }
    },
    {
      "cell_type": "code",
      "source": [
        "print(\"Adios, Mundo!\")"
      ],
      "metadata": {
        "id": "xqcCj8388Eiq",
        "colab": {
          "base_uri": "https://localhost:8080/"
        },
        "outputId": "9b58e40c-3d5f-4e2d-e6ec-bd147b1efa81"
      },
      "execution_count": 6,
      "outputs": [
        {
          "output_type": "stream",
          "name": "stdout",
          "text": [
            "Adios, Mundo!\n"
          ]
        }
      ]
    }
  ]
}