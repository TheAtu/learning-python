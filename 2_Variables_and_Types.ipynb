{
  "nbformat": 4,
  "nbformat_minor": 0,
  "metadata": {
    "colab": {
      "provenance": [],
      "include_colab_link": true
    },
    "kernelspec": {
      "name": "python3",
      "display_name": "Python 3"
    },
    "language_info": {
      "name": "python"
    }
  },
  "cells": [
    {
      "cell_type": "markdown",
      "metadata": {
        "id": "view-in-github",
        "colab_type": "text"
      },
      "source": [
        "<a href=\"https://colab.research.google.com/github/TheAtu/learning-python/blob/main/2_Variables_and_Types.ipynb\" target=\"_parent\"><img src=\"https://colab.research.google.com/assets/colab-badge.svg\" alt=\"Open In Colab\"/></a>"
      ]
    },
    {
      "cell_type": "markdown",
      "source": [
        "Python is completely object oriented, and not \"statically typed\". You do not need to declare variables before using them, or declare their type. Every variable in Python is an object.\n",
        "\n",
        "This tutorial will go over a few basic types of variables."
      ],
      "metadata": {
        "id": "r9ErNNr-8Yws"
      }
    },
    {
      "cell_type": "markdown",
      "source": [
        "## Numbers\n",
        "\n",
        "Python supports two types of numbers - integers(whole numbers) and floating point numbers(decimals)."
      ],
      "metadata": {
        "id": "RHfWvYni8cBD"
      }
    },
    {
      "cell_type": "markdown",
      "source": [
        "To define an integer, use the following syntax:"
      ],
      "metadata": {
        "id": "ShzS9mZ-8kQD"
      }
    },
    {
      "cell_type": "code",
      "execution_count": 1,
      "metadata": {
        "id": "mWroNKhg8Ut1",
        "colab": {
          "base_uri": "https://localhost:8080/"
        },
        "outputId": "5e24325c-a3c5-4af2-ed1f-c0ba5ed65f27"
      },
      "outputs": [
        {
          "output_type": "stream",
          "name": "stdout",
          "text": [
            "42\n"
          ]
        }
      ],
      "source": [
        "myint = 42\n",
        "print(myint)"
      ]
    },
    {
      "cell_type": "markdown",
      "source": [
        "To define a floating point number, you may use one of the following notations:\n",
        "\n"
      ],
      "metadata": {
        "id": "MeEHiOCt8oTZ"
      }
    },
    {
      "cell_type": "code",
      "source": [
        "myfloat = 42\n",
        "print(myfloat)\n",
        "myfloat = float(42)\n",
        "print(myfloat)"
      ],
      "metadata": {
        "id": "l5p4p4NC8nGL",
        "colab": {
          "base_uri": "https://localhost:8080/"
        },
        "outputId": "a522b241-d8d3-4425-8599-d4aea68fa6fc"
      },
      "execution_count": 2,
      "outputs": [
        {
          "output_type": "stream",
          "name": "stdout",
          "text": [
            "42\n",
            "42.0\n"
          ]
        }
      ]
    },
    {
      "cell_type": "markdown",
      "source": [
        "## Strings\n",
        "Strings are defined either with a single quote or a double quotes."
      ],
      "metadata": {
        "id": "NLooitGP8xGD"
      }
    },
    {
      "cell_type": "code",
      "source": [
        "mystring = 'hello'\n",
        "print(mystring)\n",
        "mystring = \"hello\"\n",
        "print(mystring)"
      ],
      "metadata": {
        "id": "6jgA0I1L86XA",
        "colab": {
          "base_uri": "https://localhost:8080/"
        },
        "outputId": "d203be18-7199-480b-f752-212522e01d5a"
      },
      "execution_count": 3,
      "outputs": [
        {
          "output_type": "stream",
          "name": "stdout",
          "text": [
            "hello\n",
            "hello\n"
          ]
        }
      ]
    },
    {
      "cell_type": "markdown",
      "source": [
        "The difference between the two is that using double quotes makes it easy to include apostrophes (whereas these would terminate the string if using single quotes)"
      ],
      "metadata": {
        "id": "QOFyc-Sz8-XS"
      }
    },
    {
      "cell_type": "code",
      "source": [
        "mystring = \"Don't worry about apostrophes\"\n",
        "print(mystring)"
      ],
      "metadata": {
        "id": "HfxLJMuR9Att"
      },
      "execution_count": null,
      "outputs": []
    },
    {
      "cell_type": "markdown",
      "source": [
        "There are additional variations on defining strings that make it easier to include things such as carriage returns, backslashes and Unicode characters. If we want to break a string into two lines, we can use the new line character `\\n` as shown below."
      ],
      "metadata": {
        "id": "RS4gSdIH9ChH"
      }
    },
    {
      "cell_type": "code",
      "source": [
        "mystring = \"This is the first line.\\nThis is the second line.\"\n",
        "print(mystring)"
      ],
      "metadata": {
        "colab": {
          "base_uri": "https://localhost:8080/",
          "height": 141
        },
        "id": "iRUWIxHF9Pbk",
        "outputId": "040b0649-c49e-4ef6-b03c-5169da700d9d"
      },
      "execution_count": 4,
      "outputs": [
        {
          "output_type": "error",
          "ename": "SyntaxError",
          "evalue": "ignored",
          "traceback": [
            "\u001b[0;36m  File \u001b[0;32m\"<ipython-input-4-d043e055e5c7>\"\u001b[0;36m, line \u001b[0;32m1\u001b[0m\n\u001b[0;31m    mystring = `This is the first line.\\nThis is the second line.`\u001b[0m\n\u001b[0m               ^\u001b[0m\n\u001b[0;31mSyntaxError\u001b[0m\u001b[0;31m:\u001b[0m invalid syntax\n"
          ]
        }
      ]
    },
    {
      "cell_type": "markdown",
      "source": [
        "we can use the backspace character `\\b` to remove characters."
      ],
      "metadata": {
        "id": "Ptx33ODV-Djs"
      }
    },
    {
      "cell_type": "code",
      "source": [
        "mystring = \"This is the first linE\\be\"\n",
        "print(mystring)"
      ],
      "metadata": {
        "id": "sewmN0Ek-J1C",
        "outputId": "d1287ace-2544-4fa0-b598-7e789f9a285f",
        "colab": {
          "base_uri": "https://localhost:8080/"
        }
      },
      "execution_count": null,
      "outputs": [
        {
          "output_type": "stream",
          "name": "stdout",
          "text": [
            "This is the first linE\be\n"
          ]
        }
      ]
    },
    {
      "cell_type": "markdown",
      "source": [
        "Simple operators can be executed on numbers and strings:\n",
        "\n"
      ],
      "metadata": {
        "id": "Ii1toKPU9YwZ"
      }
    },
    {
      "cell_type": "code",
      "source": [
        "one = 1\n",
        "two = 2\n",
        "three = one + two\n",
        "print(three)\n",
        "\n",
        "hello = \"hello\"\n",
        "world = \"world\"\n",
        "helloworld = hello + \" \" + world\n",
        "print(helloworld)"
      ],
      "metadata": {
        "id": "5rK6fqVz9ZeA"
      },
      "execution_count": null,
      "outputs": []
    },
    {
      "cell_type": "markdown",
      "source": [
        "Assignments can be done on more than one variable \"simultaneously\" on the same line like this\n",
        "\n"
      ],
      "metadata": {
        "id": "wRcGk5vm9dQP"
      }
    },
    {
      "cell_type": "code",
      "source": [
        "a, b = 3, 4\n",
        "print(a, b)"
      ],
      "metadata": {
        "id": "-IVLFbrt9e3R"
      },
      "execution_count": null,
      "outputs": []
    },
    {
      "cell_type": "markdown",
      "source": [
        "Mixing operators between numbers and strings is not supported:\n",
        "\n"
      ],
      "metadata": {
        "id": "H-jxbTJB9fo8"
      }
    },
    {
      "cell_type": "code",
      "source": [
        "# This will not work!\n",
        "one = 1\n",
        "two = 2\n",
        "hello = \"hello\"\n",
        "\n",
        "print(one + two + hello)"
      ],
      "metadata": {
        "id": "t4e50MNJ9hUB"
      },
      "execution_count": null,
      "outputs": []
    },
    {
      "cell_type": "markdown",
      "source": [
        "## Exercise\n",
        "The target of this exercise is to create a string, an integer, and a floating point number. The string should be named `mystring` and should contain the word \"hello\". The floating point number should be named `myfloat` and should contain the number 10.0, and the integer should be named `myint` and should contain the number 20."
      ],
      "metadata": {
        "id": "keY6qa_u9ks3"
      }
    },
    {
      "cell_type": "code",
      "source": [
        "# change this code\n",
        "mystring = None\n",
        "myfloat = None\n",
        "myint = None\n",
        "\n",
        "# testing code\n",
        "if mystring == \"hello\":\n",
        "    print(\"String: %s\" % mystring)\n",
        "if isinstance(myfloat, float) and myfloat == 10.0:\n",
        "    print(\"Float: %f\" % myfloat)\n",
        "if isinstance(myint, int) and myint == 20:\n",
        "    print(\"Integer: %d\" % myint)\n",
        "\n",
        "#More Ways of generating Strings (https://realpython.com/python-string-formatting/)\n",
        "#formatted string literals/Interpolation (\"f-strings\") since Python 3.6\n",
        "name = \"Alfonso\"\n",
        "age = 22\n",
        "stringMessage = f\"{name} tiene {age} de edad\\nSaludos!\"\n",
        "print(stringMessage)\n",
        "#“New Style” String Formatting (str.format) since Python 3.0\n",
        "\"Hi {}, you are {}\".format(name, age)\n",
        "\"Hi {name}, you are {age}\".format(name=name, age=age)"
      ],
      "metadata": {
        "id": "a54Hau5q9156",
        "colab": {
          "base_uri": "https://localhost:8080/",
          "height": 70
        },
        "outputId": "305eac9f-4897-4940-d0ee-3a453f803b51"
      },
      "execution_count": 12,
      "outputs": [
        {
          "output_type": "stream",
          "name": "stdout",
          "text": [
            "Alfonso tiene 22 de edad\n",
            "Saludos!\n"
          ]
        },
        {
          "output_type": "execute_result",
          "data": {
            "text/plain": [
              "'Hi Alfonso, you are 22'"
            ],
            "application/vnd.google.colaboratory.intrinsic+json": {
              "type": "string"
            }
          },
          "metadata": {},
          "execution_count": 12
        }
      ]
    },
    {
      "cell_type": "markdown",
      "source": [
        "## Solution\n",
        "\n",
        "    String: hello\n",
        "    Float: 10.000000\n",
        "    Integer: 20"
      ],
      "metadata": {
        "id": "HkNF73epB5Be"
      }
    }
  ]
}