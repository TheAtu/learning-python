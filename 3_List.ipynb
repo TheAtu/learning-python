{
  "nbformat": 4,
  "nbformat_minor": 0,
  "metadata": {
    "colab": {
      "provenance": [],
      "include_colab_link": true
    },
    "kernelspec": {
      "name": "python3",
      "display_name": "Python 3"
    },
    "language_info": {
      "name": "python"
    }
  },
  "cells": [
    {
      "cell_type": "markdown",
      "metadata": {
        "id": "view-in-github",
        "colab_type": "text"
      },
      "source": [
        "<a href=\"https://colab.research.google.com/github/TheAtu/learning-python/blob/main/3_List.ipynb\" target=\"_parent\"><img src=\"https://colab.research.google.com/assets/colab-badge.svg\" alt=\"Open In Colab\"/></a>"
      ]
    },
    {
      "cell_type": "markdown",
      "source": [
        "## Lists\n",
        "\n",
        "Collections of items can be stored in Lists. They can contain any type of variable, and they can contain as many variables as you wish. Lists can also be iterated over in a very simple manner. Here is an example of how to build a list.\n"
      ],
      "metadata": {
        "id": "z1ap8Mem-wL_"
      }
    },
    {
      "cell_type": "code",
      "execution_count": null,
      "metadata": {
        "id": "xh8uHfFb-YGO"
      },
      "outputs": [],
      "source": [
        "mylist = []\n",
        "mylist.append(1)\n",
        "mylist.append(2)\n",
        "mylist.append(3)\n",
        "print(mylist)"
      ]
    },
    {
      "cell_type": "markdown",
      "source": [
        "\n",
        "You can access individual elements in a list by using indices. The first element in a Python list is at index 0. A list with 3 elements would have indices 0,1,2"
      ],
      "metadata": {
        "id": "4X3Oq5Gd-6nG"
      }
    },
    {
      "cell_type": "code",
      "source": [
        "print(mylist[0]) # prints 1\n",
        "print(mylist[1]) # prints 2\n",
        "print(mylist[2]) # prints 3"
      ],
      "metadata": {
        "id": "IsNm0xrP-vU4"
      },
      "execution_count": null,
      "outputs": []
    },
    {
      "cell_type": "markdown",
      "source": [
        "Accessing an index which does not exist generates an exception (an error).\n",
        "\n"
      ],
      "metadata": {
        "id": "tH94iVNF-u0l"
      }
    },
    {
      "cell_type": "code",
      "source": [
        "mylist = [1,2,3]\n",
        "print(mylist[10])"
      ],
      "metadata": {
        "id": "FkOSQcUX_Nlf"
      },
      "execution_count": null,
      "outputs": []
    },
    {
      "cell_type": "markdown",
      "source": [
        "## Exercise\n",
        "\n",
        "In this exercise, you will need to add numbers and strings to the correct lists using the \"append\" list method. You must add the numbers 1,2, and 3 to the \"numbers\" list, and the words 'hello' and 'world' to the strings variable.\n",
        "\n",
        "You will also have to fill in the variable second_name with the second name in the names list, using the brackets operator []. Note that the index is zero-based, so if you want to access the second item in the list, its index will be 1."
      ],
      "metadata": {
        "id": "oQ5bHiQs_Ro7"
      }
    },
    {
      "cell_type": "code",
      "source": [
        "numbers = [1,2,3]\n",
        "strings = []\n",
        "names = [\"Juan\",\"Eric\", \"Roberta\", \"Fernando\"]\n",
        "\n",
        "# Add numbers 1,2,3 to the numbers list.\n",
        "\n",
        "# Get the value of the second_name from the names list\n",
        "second_name = names[1]\n",
        "strings.extend(numbers) #Agrega los elementos de la lista [numbers] => [strings]\n",
        "strings.append(names) #Agrega la lista [names] => [strings], toda la lista como 1 elemento de [strings]\n",
        "\n",
        "# this code should write out the filled arrays and the second name in the names list (Eric).\n",
        "print(numbers)\n",
        "print(strings)\n",
        "print(\"The second name on the names list is %s\" % second_name)"
      ],
      "metadata": {
        "id": "VLgEKCqV_Uh8",
        "colab": {
          "base_uri": "https://localhost:8080/"
        },
        "outputId": "4d7e5f81-d249-4ffd-8565-3bd1a7eb49c2"
      },
      "execution_count": 5,
      "outputs": [
        {
          "output_type": "stream",
          "name": "stdout",
          "text": [
            "[1, 2, 3]\n",
            "[1, 2, 3, ['Juan', 'Eric', 'Roberta', 'Fernando']]\n",
            "The second name on the names list is Eric\n"
          ]
        }
      ]
    },
    {
      "cell_type": "markdown",
      "source": [
        "## Solutions\n",
        "    numbers = [1, 2, 3]\n",
        "    strings = ['hello', 'world']\n",
        "    second_name = The second name on the names list is Roberta"
      ],
      "metadata": {
        "id": "s8cqZo4iBjEw"
      }
    }
  ]
}